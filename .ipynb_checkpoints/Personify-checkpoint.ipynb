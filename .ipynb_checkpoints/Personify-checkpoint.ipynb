{
 "cells": [
  {
   "cell_type": "markdown",
   "metadata": {},
   "source": [
    "PERSONIFY \n",
    "- DSA Semester Project  \n",
    "- MBTI Personality Detection from Person Text"
   ]
  },
  {
   "cell_type": "code",
   "execution_count": 21,
   "metadata": {},
   "outputs": [],
   "source": [
    "# Import All Necessary modules\n",
    "import pandas as pd\n",
    "import numpy as np\n",
    "import sklearn as sk\n",
    "import matplotlib.pyplot as plt\n",
    "import math\n",
    "\n",
    "import re\n",
    "import nltk\n",
    "wn = nltk.stem.WordNetLemmatizer()\n",
    "pstemmer = nltk.stem.PorterStemmer()\n",
    "from nltk.corpus import stopwords\n",
    "from nltk.tokenize import sent_tokenize, word_tokenize\n",
    "# nltk.download() # to choose any pkj to download\n",
    "# nltk.download('stopwords')\n",
    "# nltk.download('punkt')\n",
    "# nltk.download('wordnet')\n",
    "# from concurrent.futures import ThreadPoolExecutor\n",
    "import multiprocessing\n",
    "import time\n",
    "# from tqdm import tqdm\n",
    "\n",
    "# print(wn.lemmatize(\"better\"))\n",
    "# print(pstemmer.stem(\"unsuccessfully\"))\n"
   ]
  },
  {
   "cell_type": "markdown",
   "metadata": {},
   "source": [
    "## Data\n",
    "    -Two columns- \n",
    "        -Personality type \n",
    "        -Posts text - that portrays the personality\n",
    "    -Contains at least 50 diferrent post texts separated with |||"
   ]
  },
  {
   "cell_type": "code",
   "execution_count": 22,
   "metadata": {},
   "outputs": [
    {
     "data": {
      "text/html": [
       "<div>\n",
       "<style scoped>\n",
       "    .dataframe tbody tr th:only-of-type {\n",
       "        vertical-align: middle;\n",
       "    }\n",
       "\n",
       "    .dataframe tbody tr th {\n",
       "        vertical-align: top;\n",
       "    }\n",
       "\n",
       "    .dataframe thead th {\n",
       "        text-align: right;\n",
       "    }\n",
       "</style>\n",
       "<table border=\"1\" class=\"dataframe\">\n",
       "  <thead>\n",
       "    <tr style=\"text-align: right;\">\n",
       "      <th></th>\n",
       "      <th>type</th>\n",
       "      <th>posts</th>\n",
       "    </tr>\n",
       "  </thead>\n",
       "  <tbody>\n",
       "    <tr>\n",
       "      <th>0</th>\n",
       "      <td>INFJ</td>\n",
       "      <td>'http://www.youtube.com/watch?v=qsXHcwe3krw|||...</td>\n",
       "    </tr>\n",
       "    <tr>\n",
       "      <th>1</th>\n",
       "      <td>ENTP</td>\n",
       "      <td>'I'm finding the lack of me in these posts ver...</td>\n",
       "    </tr>\n",
       "    <tr>\n",
       "      <th>2</th>\n",
       "      <td>INTP</td>\n",
       "      <td>'Good one  _____   https://www.youtube.com/wat...</td>\n",
       "    </tr>\n",
       "    <tr>\n",
       "      <th>3</th>\n",
       "      <td>INTJ</td>\n",
       "      <td>'Dear INTP,   I enjoyed our conversation the o...</td>\n",
       "    </tr>\n",
       "    <tr>\n",
       "      <th>4</th>\n",
       "      <td>ENTJ</td>\n",
       "      <td>'You're fired.|||That's another silly misconce...</td>\n",
       "    </tr>\n",
       "    <tr>\n",
       "      <th>5</th>\n",
       "      <td>INTJ</td>\n",
       "      <td>'18/37 @.@|||Science  is not perfect. No scien...</td>\n",
       "    </tr>\n",
       "    <tr>\n",
       "      <th>6</th>\n",
       "      <td>INFJ</td>\n",
       "      <td>'No, I can't draw on my own nails (haha). Thos...</td>\n",
       "    </tr>\n",
       "    <tr>\n",
       "      <th>7</th>\n",
       "      <td>INTJ</td>\n",
       "      <td>'I tend to build up a collection of things on ...</td>\n",
       "    </tr>\n",
       "    <tr>\n",
       "      <th>8</th>\n",
       "      <td>INFJ</td>\n",
       "      <td>I'm not sure, that's a good question. The dist...</td>\n",
       "    </tr>\n",
       "    <tr>\n",
       "      <th>9</th>\n",
       "      <td>INTP</td>\n",
       "      <td>'https://www.youtube.com/watch?v=w8-egj0y8Qs||...</td>\n",
       "    </tr>\n",
       "  </tbody>\n",
       "</table>\n",
       "</div>"
      ],
      "text/plain": [
       "   type                                              posts\n",
       "0  INFJ  'http://www.youtube.com/watch?v=qsXHcwe3krw|||...\n",
       "1  ENTP  'I'm finding the lack of me in these posts ver...\n",
       "2  INTP  'Good one  _____   https://www.youtube.com/wat...\n",
       "3  INTJ  'Dear INTP,   I enjoyed our conversation the o...\n",
       "4  ENTJ  'You're fired.|||That's another silly misconce...\n",
       "5  INTJ  '18/37 @.@|||Science  is not perfect. No scien...\n",
       "6  INFJ  'No, I can't draw on my own nails (haha). Thos...\n",
       "7  INTJ  'I tend to build up a collection of things on ...\n",
       "8  INFJ  I'm not sure, that's a good question. The dist...\n",
       "9  INTP  'https://www.youtube.com/watch?v=w8-egj0y8Qs||..."
      ]
     },
     "execution_count": 22,
     "metadata": {},
     "output_type": "execute_result"
    }
   ],
   "source": [
    "# Read database\n",
    "data = pd.read_csv(\"data_sets\\mbti.csv\")\n",
    "data.head(10)"
   ]
  },
  {
   "cell_type": "code",
   "execution_count": 23,
   "metadata": {},
   "outputs": [
    {
     "data": {
      "text/plain": [
       "0       INFJ\n",
       "1       ENTP\n",
       "2       INTP\n",
       "3       INTJ\n",
       "4       ENTJ\n",
       "        ... \n",
       "8670    ISFP\n",
       "8671    ENFP\n",
       "8672    INTP\n",
       "8673    INFP\n",
       "8674    INFP\n",
       "Name: type, Length: 8675, dtype: object"
      ]
     },
     "execution_count": 23,
     "metadata": {},
     "output_type": "execute_result"
    }
   ],
   "source": [
    "#Input text to detect personality type \n",
    "X = data[\"posts\"]\n",
    "# Output Class values 16 personality types or classes\n",
    "Y = data[\"type\"]\n",
    "Y "
   ]
  },
  {
   "cell_type": "markdown",
   "metadata": {},
   "source": [
    "## Data Preprocessing "
   ]
  },
  {
   "cell_type": "code",
   "execution_count": 24,
   "metadata": {},
   "outputs": [
    {
     "data": {
      "text/plain": [
       "type     0\n",
       "posts    0\n",
       "dtype: int64"
      ]
     },
     "execution_count": 24,
     "metadata": {},
     "output_type": "execute_result"
    }
   ],
   "source": [
    "# Check for missing values\n",
    "data.isnull().sum()\n",
    "# if missing values found either remove row or coloumn or replace with mean, median or mode"
   ]
  },
  {
   "cell_type": "code",
   "execution_count": 25,
   "metadata": {},
   "outputs": [
    {
     "data": {
      "text/plain": [
       "(8675, 2)"
      ]
     },
     "execution_count": 25,
     "metadata": {},
     "output_type": "execute_result"
    }
   ],
   "source": [
    "data.shape"
   ]
  },
  {
   "cell_type": "code",
   "execution_count": 26,
   "metadata": {},
   "outputs": [
    {
     "data": {
      "text/plain": [
       "Text(0.5, 1.0, 'MBTI-Types Frequency')"
      ]
     },
     "execution_count": 26,
     "metadata": {},
     "output_type": "execute_result"
    },
    {
     "data": {
      "image/png": "[encoded data removed]",
      "text/plain": [
       "<Figure size 1800x720 with 1 Axes>"
      ]
     },
     "metadata": {
      "needs_background": "light"
     },
     "output_type": "display_data"
    }
   ],
   "source": [
    "# Showing a bar chart of MBTI Personality types and their occurences in the data set\n",
    "mbti_types= Y.drop_duplicates()\n",
    "mbti_occurances = Y.value_counts()\n",
    "y_pos = np.arange(len(mbti_types)) \n",
    "\n",
    "plt.figure(figsize=(25,10))\n",
    "plt.bar(y_pos, mbti_occurances, align='center', alpha=0.5)\n",
    "plt.xticks(y_pos, mbti_types)\n",
    "plt.ylabel('MBTI-Frequency')\n",
    "plt.title('MBTI-Types Frequency')"
   ]
  },
  {
   "cell_type": "markdown",
   "metadata": {},
   "source": [
    "## Selective Word Removal \n",
    " -(removing links, unecessary stoping words like a, the or, and..., or MBTI types if may be given in text and stemize)\n",
    "     \n",
    "     -Remove Links\n",
    "     -Tokenize Sentences and words\n",
    "     -Remove Stop words\n",
    "     -Lemmatize (Stemize) words\n",
    "     -Padding (words to ints of same length) - (Only Needed for Deep Learning Models)"
   ]
  },
  {
   "cell_type": "code",
   "execution_count": 27,
   "metadata": {},
   "outputs": [],
   "source": [
    "## All the Bellow Code is used from a separate file to be used in multiprocessing\n",
    "\n",
    "# #remove any links from each post row of 50 texts\n",
    "# def remove_links(posts):\n",
    "# #     no_link_text = re.sub(r'^http.*?\\s?:\\/\\/.*[\\r\\n]*', '', posts, flags=re.MULTILINE)\n",
    "#     no_link_text = re.sub(r\"http\\S+\", \"\", posts, flags=re.MULTILINE)\n",
    "#     no_link_text = re.sub(r\"[|||]\", \"\", no_link_text, flags=re.MULTILINE)\n",
    "#     return no_link_text\n",
    "\n",
    "# #Takes in 'without-links' text and divides them into countable words\n",
    "# def tokenize_text(no_link_text):\n",
    "#     word_tokens = word_tokenize(no_link_text)\n",
    "#     return word_tokens\n",
    "\n",
    "# #Remove any nums and punctuations from text\n",
    "# # def remove_puncs_num(word_tokens):\n",
    "# #     no_puncs_nums = re.sub(r\"^[!\\.,?:''~`]\\D+\", \"\", word_tokens, flags=re.MULTILINE)\n",
    "# #     return no_puncs_nums\n",
    "\n",
    "# #Remove any stop words from tokenized text\n",
    "# def remove_stop_words(word_tokens):\n",
    "#     text_tokens = \"\"\n",
    "#     text_tokens = []\n",
    "#     for word in word_tokens:\n",
    "#         if not word in stopwords.words():\n",
    "# #             text_tokens += word + \" \"\n",
    "#             text_tokens.append(word)\n",
    "#     return text_tokens\n",
    "\n",
    "# #Convert any family of words to their root word ( like walking , walked -> walk)\n",
    "# def lemmatize_text(text_tokens):\n",
    "#     lemm_text = \"\"\n",
    "# #     lemm_text = []\n",
    "#     for word in text_tokens:\n",
    "# #         print(word)\n",
    "# #         print(\"---=============\")\n",
    "#         lemm_text += pstemmer.stem(word) + \" \"\n",
    "# #         lemm_text.append(pstemmer.stem(word))\n",
    "#     return lemm_text\n",
    "    \n",
    "# #Convert Words into integers of same length (remove or add zeroes to make them of same length int words)\n",
    "# # Only needed for DEEP LEARNING MODELS\n",
    "# def words_int_padding():\n",
    "#     print(\"padding..\")\n",
    "#     pass\n",
    "    \n",
    "#Create a new Processed data set to train model\n",
    "# def export_processed_data(processed_data):\n",
    "#     print(\"Exporting Processed Data\")\n",
    "    \n",
    "#     pass\n",
    "    \n",
    "    "
   ]
  },
  {
   "cell_type": "code",
   "execution_count": 28,
   "metadata": {},
   "outputs": [],
   "source": [
    "# x_processed = []\n",
    "# i = 0\n",
    "# for text in X:\n",
    "#     no_link_text = remove_links(text)\n",
    "# #     print(len(no_link_text.split(\"|||\")))\n",
    "# #     print(no_link_text)\n",
    "#     word_tokens = tokenize_text(no_link_text)\n",
    "# #     print(word_tokens)\n",
    "#     text_tokens = remove_stop_words(word_tokens)\n",
    "# #     print(text_tokens)\n",
    "#     lemm_text = lemmatize_text(text_tokens)\n",
    "# #     print(lemm_text)\n",
    "#     X_processed.append(lemm_text)\n",
    "# #     break # breaking for testing only one Post row\n",
    "#     i += 1\n",
    "#     print(i)\n",
    "#     if i is 2:\n",
    "#         break\n"
   ]
  },
  {
   "cell_type": "code",
   "execution_count": 29,
   "metadata": {},
   "outputs": [],
   "source": [
    "## Testing iloc with variables\n",
    "# a = 8500\n",
    "# b = len(X)\n",
    "# some_posts = X.iloc[a:b]\n",
    "# some_posts"
   ]
  },
  {
   "cell_type": "code",
   "execution_count": 30,
   "metadata": {},
   "outputs": [],
   "source": [
    "#Trying out multi threading to speed up the preprocessing of 8000+ rows\n",
    "\n",
    "import preprocess    \n",
    "q_output = multiprocessing.Queue()\n",
    "processes = 12 \n",
    "\n",
    "    \n",
    "def async_processing(posts):\n",
    "#     %time\n",
    "    #to process at least 1446 rows by each process\n",
    "    \n",
    "#     pool = multiprocessing.Pool(processes)\n",
    "#     result = [pool.apply_async(preprocess_posts.preprocess_posts, (post, x_processed)) for post in X]\n",
    "#     ==========\n",
    "    jobs = []\n",
    "    p_rows = math.ceil(len(posts)/processes) # 1445.33 -> 1446 (rounds up)\n",
    "    for i in range(0, processes):\n",
    "        #divide total rows by processNo 6 and pass that much rows (next) to each processes\n",
    "        a = i * p_rows  # 0 * 1446, start index\n",
    "        b = a + p_rows  # 0 + 1446, end index it will become 1445 (b-1)\n",
    "        if(b >= len(posts)):\n",
    "            b = len(posts)\n",
    "#         posts =  # rows slicing from a -> b-1\n",
    "        \n",
    "        process = multiprocessing.Process(target=preprocess.preprocess_posts, \n",
    "                                          args=(posts.iloc[a:b], i, q_output))\n",
    "        jobs.append(process)\n",
    "\n",
    "    # Start the processes (i.e. calculate the random number lists)      \n",
    "    for j in jobs:\n",
    "        j.start()\n",
    "\n",
    "    result = [q_output.get() for p in range(processes)]\n",
    "    \n",
    "    # Ensure all of the processes have finished\n",
    "    for j in jobs:\n",
    "        j.join()\n",
    "    \n",
    "    # Get 6 process results (lists) from the output queue    \n",
    "    print(\"Pre Processing...\")\n",
    "    return result"
   ]
  },
  {
   "cell_type": "code",
   "execution_count": 31,
   "metadata": {},
   "outputs": [
    {
     "name": "stdout",
     "output_type": "stream",
     "text": [
      "Pre Processing...\n"
     ]
    }
   ],
   "source": [
    "# may make main process kernal heavy and get hanged\n",
    "# res = All the processes (12) rows data back from them\n",
    "res = async_processing(X)\n",
    "# print(res)"
   ]
  },
  {
   "cell_type": "code",
   "execution_count": 108,
   "metadata": {},
   "outputs": [
    {
     "data": {
      "text/plain": [
       "18"
      ]
     },
     "execution_count": 108,
     "metadata": {},
     "output_type": "execute_result"
    }
   ],
   "source": [
    "#need to create a series from a dictionary but need to add orderly 0-6 processes rows\n",
    "# print(res[3][1])\n",
    "# procs_series.head()\n",
    "# procs_series[1][0]\n",
    "# procs_series = pd.Series([res[i][1] for i in range(len(res))])\n",
    "# print(len(procs_series))\n",
    "#===================\n",
    "\n",
    "x_list = []\n",
    "for procs in res:\n",
    "    for j in range(3):  #Testing for 3 post rows,=> Use len(data) for all data \n",
    "#         print(procs, j)\n",
    "        x_list.append(procs[1][j]) # procs is a tuple of all processes with their selected processed rows (0, strs...1446)\n",
    "len(x_list)"
   ]
  },
  {
   "cell_type": "code",
   "execution_count": 109,
   "metadata": {},
   "outputs": [
    {
     "data": {
      "text/html": [
       "<div>\n",
       "<style scoped>\n",
       "    .dataframe tbody tr th:only-of-type {\n",
       "        vertical-align: middle;\n",
       "    }\n",
       "\n",
       "    .dataframe tbody tr th {\n",
       "        vertical-align: top;\n",
       "    }\n",
       "\n",
       "    .dataframe thead th {\n",
       "        text-align: right;\n",
       "    }\n",
       "</style>\n",
       "<table border=\"1\" class=\"dataframe\">\n",
       "  <thead>\n",
       "    <tr style=\"text-align: right;\">\n",
       "      <th></th>\n",
       "      <th>type</th>\n",
       "      <th>posts</th>\n",
       "    </tr>\n",
       "  </thead>\n",
       "  <tbody>\n",
       "    <tr>\n",
       "      <th>0</th>\n",
       "      <td>INFJ</td>\n",
       "      <td>' intj moment sportscent top ten play prankswh...</td>\n",
       "    </tr>\n",
       "    <tr>\n",
       "      <th>1</th>\n",
       "      <td>ENTP</td>\n",
       "      <td>' I 'm find lack post alarming.sex bore 's pos...</td>\n",
       "    </tr>\n",
       "    <tr>\n",
       "      <th>2</th>\n",
       "      <td>INTP</td>\n",
       "      <td>'good _____ cours , I say I know ; 's bless cu...</td>\n",
       "    </tr>\n",
       "    <tr>\n",
       "      <th>3</th>\n",
       "      <td>INTJ</td>\n",
       "      <td>' I dislik I alway seem manag step infp 's toe...</td>\n",
       "    </tr>\n",
       "    <tr>\n",
       "      <th>4</th>\n",
       "      <td>ENTJ</td>\n",
       "      <td>what describ pretti much definit eat disord .....</td>\n",
       "    </tr>\n",
       "    <tr>\n",
       "      <th>5</th>\n",
       "      <td>INTJ</td>\n",
       "      <td>'when I said someon child-lik , 's compliment ...</td>\n",
       "    </tr>\n",
       "    <tr>\n",
       "      <th>6</th>\n",
       "      <td>INFJ</td>\n",
       "      <td>'haha , shit hit fan . I knew sudden improv te...</td>\n",
       "    </tr>\n",
       "    <tr>\n",
       "      <th>7</th>\n",
       "      <td>INTJ</td>\n",
       "      <td>' I lot difficulti determin type . I thought I...</td>\n",
       "    </tr>\n",
       "    <tr>\n",
       "      <th>8</th>\n",
       "      <td>INFJ</td>\n",
       "      <td>'isfp ? type most like To believ second chance...</td>\n",
       "    </tr>\n",
       "    <tr>\n",
       "      <th>9</th>\n",
       "      <td>INTP</td>\n",
       "      <td>' I 'm move forward enfp I 've interest quit ,...</td>\n",
       "    </tr>\n",
       "  </tbody>\n",
       "</table>\n",
       "</div>"
      ],
      "text/plain": [
       "   type                                              posts\n",
       "0  INFJ  ' intj moment sportscent top ten play prankswh...\n",
       "1  ENTP  ' I 'm find lack post alarming.sex bore 's pos...\n",
       "2  INTP  'good _____ cours , I say I know ; 's bless cu...\n",
       "3  INTJ  ' I dislik I alway seem manag step infp 's toe...\n",
       "4  ENTJ  what describ pretti much definit eat disord .....\n",
       "5  INTJ  'when I said someon child-lik , 's compliment ...\n",
       "6  INFJ  'haha , shit hit fan . I knew sudden improv te...\n",
       "7  INTJ  ' I lot difficulti determin type . I thought I...\n",
       "8  INFJ  'isfp ? type most like To believ second chance...\n",
       "9  INTP  ' I 'm move forward enfp I 've interest quit ,..."
      ]
     },
     "execution_count": 109,
     "metadata": {},
     "output_type": "execute_result"
    }
   ],
   "source": [
    "x_series = pd.Series(x_list, name=\"posts\")\n",
    "# #Combining Processed posts back with their related Types\n",
    "processed_data = pd.concat([Y,x_series], axis=1) # axis 1 = columnj\n",
    "# processed_data[\"posts\"][4]\n",
    "processed_data.head(10)"
   ]
  },
  {
   "cell_type": "code",
   "execution_count": 103,
   "metadata": {},
   "outputs": [],
   "source": [
    "#Exporting Preprocessed data to a new csv file\n",
    "processed_data.to_csv(\"data_sets\\mbti_processed_data.csv\",index=False)\n",
    "# data.head(1448)\n",
    "# data[\"posts\"][4]"
   ]
  },
  {
   "cell_type": "code",
   "execution_count": 35,
   "metadata": {},
   "outputs": [],
   "source": [
    "#Split Train and Test Data\n",
    "# def split_train_test(data):\n",
    "#     print(\"Spliting\")\n",
    "#     pass"
   ]
  },
  {
   "cell_type": "code",
   "execution_count": null,
   "metadata": {},
   "outputs": [],
   "source": []
  }
 ],
 "metadata": {
  "kernelspec": {
   "display_name": "Python 3",
   "language": "python",
   "name": "python3"
  },
  "language_info": {
   "codemirror_mode": {
    "name": "ipython",
    "version": 3
   },
   "file_extension": ".py",
   "mimetype": "text/x-python",
   "name": "python",
   "nbconvert_exporter": "python",
   "pygments_lexer": "ipython3",
   "version": "3.7.9"
  }
 },
 "nbformat": 4,
 "nbformat_minor": 4
}
